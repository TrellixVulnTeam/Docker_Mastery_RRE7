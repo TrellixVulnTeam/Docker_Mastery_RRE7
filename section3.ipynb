{
 "cells": [
  {
   "cell_type": "code",
   "execution_count": 5,
   "metadata": {},
   "outputs": [],
   "source": [
    "# type: ignore"
   ]
  },
  {
   "cell_type": "markdown",
   "metadata": {},
   "source": [
    "## 29. Docker networks: DNS and how containers communicate\n",
    "\n",
    "Docker daemon has a built-in DNS server that containers use by default. This removes the complexity inherent in IP adresses that will be dynamically assigned for each new container instance.\n",
    "\n",
    "--> docker run -d -p 80:80 docker/getting-started\n",
    "\n",
    "\n"
   ]
  },
  {
   "cell_type": "code",
   "execution_count": 7,
   "metadata": {},
   "outputs": [
    {
     "name": "stdout",
     "output_type": "stream",
     "text": [
      "CONTAINER ID   IMAGE                    COMMAND                  CREATED          STATUS          PORTS                            NAMES\n",
      "fdba37b32ba4   nginx                    \"/docker-entrypoint.…\"   25 minutes ago   Up 25 minutes   80/tcp, 0.0.0.0:8080->8080/tcp   magical_lichterman\n",
      "e75056f06d23   docker/getting-started   \"/docker-entrypoint.…\"   28 minutes ago   Up 28 minutes   0.0.0.0:80->80/tcp               zen_kepler\n"
     ]
    }
   ],
   "source": [
    "%%bash\n",
    "docker container ls"
   ]
  },
  {
   "cell_type": "code",
   "execution_count": 1,
   "metadata": {},
   "outputs": [
    {
     "name": "stdout",
     "output_type": "stream",
     "text": [
      "NETWORK ID     NAME      DRIVER    SCOPE\n",
      "52193b29b85a   bridge    bridge    local\n",
      "3ce29c12aded   host      host      local\n",
      "6079f8bfd67f   none      null      local\n"
     ]
    }
   ],
   "source": [
    "%%bash\n",
    "docker network ls"
   ]
  },
  {
   "cell_type": "markdown",
   "metadata": {},
   "source": [
    "### To inspect the network config of a container"
   ]
  },
  {
   "cell_type": "code",
   "execution_count": 4,
   "metadata": {},
   "outputs": [
    {
     "name": "stdout",
     "output_type": "stream",
     "text": [
      "[\n",
      "    {\n",
      "        \"Name\": \"bridge\",\n",
      "        \"Id\": \"52193b29b85a4574543be17ead44f7fa5d83c358a8fedfeee03010a0a40bab7a\",\n",
      "        \"Created\": \"2021-11-22T12:39:30.191488375Z\",\n",
      "        \"Scope\": \"local\",\n",
      "        \"Driver\": \"bridge\",\n",
      "        \"EnableIPv6\": false,\n",
      "        \"IPAM\": {\n",
      "            \"Driver\": \"default\",\n",
      "            \"Options\": null,\n",
      "            \"Config\": [\n",
      "                {\n",
      "                    \"Subnet\": \"172.17.0.0/16\",\n",
      "                    \"Gateway\": \"172.17.0.1\"\n",
      "                }\n",
      "            ]\n",
      "        },\n",
      "        \"Internal\": false,\n",
      "        \"Attachable\": false,\n",
      "        \"Ingress\": false,\n",
      "        \"ConfigFrom\": {\n",
      "            \"Network\": \"\"\n",
      "        },\n",
      "        \"ConfigOnly\": false,\n",
      "        \"Containers\": {\n",
      "            \"e75056f06d235b9f96e5c516ec8bb8f4dbb3f666d4019f7a49c7a2d5afe1f2cb\": {\n",
      "                \"Name\": \"zen_kepler\",\n",
      "                \"EndpointID\": \"2b428d8dfe77fcabeaff83bda1cc8eac992132c225bb18d7ccc951c58b40b801\",\n",
      "                \"MacAddress\": \"02:42:ac:11:00:02\",\n",
      "                \"IPv4Address\": \"172.17.0.2/16\",\n",
      "                \"IPv6Address\": \"\"\n",
      "            },\n",
      "            \"fdba37b32ba423d56a48ab24da6e5f733ad8adcfa1c1dc15e1a907cadca0da17\": {\n",
      "                \"Name\": \"magical_lichterman\",\n",
      "                \"EndpointID\": \"07b1e5c689e262f459e8b3b528ee6c21af2ae283100e8163a2658bdabc6c0a64\",\n",
      "                \"MacAddress\": \"02:42:ac:11:00:03\",\n",
      "                \"IPv4Address\": \"172.17.0.3/16\",\n",
      "                \"IPv6Address\": \"\"\n",
      "            }\n",
      "        },\n",
      "        \"Options\": {\n",
      "            \"com.docker.network.bridge.default_bridge\": \"true\",\n",
      "            \"com.docker.network.bridge.enable_icc\": \"true\",\n",
      "            \"com.docker.network.bridge.enable_ip_masquerade\": \"true\",\n",
      "            \"com.docker.network.bridge.host_binding_ipv4\": \"0.0.0.0\",\n",
      "            \"com.docker.network.bridge.name\": \"docker0\",\n",
      "            \"com.docker.network.driver.mtu\": \"1500\"\n",
      "        },\n",
      "        \"Labels\": {}\n",
      "    }\n",
      "]\n"
     ]
    }
   ],
   "source": [
    "%%bash \n",
    "docker network inspect 52193b29b85a"
   ]
  },
  {
   "cell_type": "markdown",
   "metadata": {},
   "source": [
    "## DNS aliases (round robin example)"
   ]
  },
  {
   "cell_type": "code",
   "execution_count": 6,
   "metadata": {},
   "outputs": [
    {
     "name": "stdout",
     "output_type": "stream",
     "text": [
      "e343b6750531f58030cad306dca3c22430a64d79609e56451cb1ee1f5dedfb9d\n",
      "CONTAINER ID   IMAGE     COMMAND   CREATED   STATUS    PORTS     NAMES\n",
      "Server:\t\t127.0.0.11\n",
      "Address:\t127.0.0.11:53\n",
      "\n",
      "Non-authoritative answer:\n",
      "\n",
      "Non-authoritative answer:\n",
      "\n"
     ]
    },
    {
     "name": "stderr",
     "output_type": "stream",
     "text": [
      "Unable to find image 'elasticsearch:2' locally\n",
      "2: Pulling from library/elasticsearch\n",
      "docker: no matching manifest for linux/arm64/v8 in the manifest list entries.\n",
      "See 'docker run --help'.\n",
      "Unable to find image 'elasticsearch:2' locally\n",
      "2: Pulling from library/elasticsearch\n",
      "docker: no matching manifest for linux/arm64/v8 in the manifest list entries.\n",
      "See 'docker run --help'.\n",
      "Unable to find image 'alpine:latest' locally\n",
      "latest: Pulling from library/alpine\n",
      "9b3977197b4f: Pulling fs layer\n",
      "9b3977197b4f: Verifying Checksum\n",
      "9b3977197b4f: Download complete\n",
      "9b3977197b4f: Pull complete\n",
      "Digest: sha256:21a3deaa0d32a8057914f36584b5288d2e5ecc984380bc0118285c70fa8c9300\n",
      "Status: Downloaded newer image for alpine:latest\n"
     ]
    }
   ],
   "source": [
    "%%bash\n",
    "#create a new virtual network \n",
    "#create two elasticsearch search containers\n",
    "#research and use -network-alias search when creating them to give them an additional DNS name to respond to \n",
    "#run alpine nslookup search with --net to see the two containers list for the same DNS name\n",
    "#run centos curl -s search:9200 with --net mutliple times untill you see both \"name\" fields show\n",
    "\n",
    "docker network create dude\n",
    "\n",
    "docker container run -d --net dude --net-alias search elasticsearch:2\n",
    "docker container run -d --net dude --net-alias search elasticsearch:2\n",
    "\n",
    "docker container run --rm --net dude alpine nslookup search\n",
    "\n",
    "docker container ls \n"
   ]
  },
  {
   "cell_type": "code",
   "execution_count": 7,
   "metadata": {},
   "outputs": [
    {
     "name": "stdout",
     "output_type": "stream",
     "text": [
      "Server:\t\t127.0.0.11\n",
      "Address:\t127.0.0.11:53\n",
      "\n",
      "Non-authoritative answer:\n",
      "\n",
      "Non-authoritative answer:\n",
      "\n"
     ]
    }
   ],
   "source": [
    "%%bash\n"
   ]
  },
  {
   "cell_type": "code",
   "execution_count": 8,
   "metadata": {},
   "outputs": [
    {
     "name": "stdout",
     "output_type": "stream",
     "text": [
      "CONTAINER ID   IMAGE     COMMAND   CREATED   STATUS    PORTS     NAMES\n"
     ]
    }
   ],
   "source": [
    "%%bash\n"
   ]
  },
  {
   "cell_type": "markdown",
   "metadata": {},
   "source": []
  }
 ],
 "metadata": {
  "interpreter": {
   "hash": "aee8b7b246df8f9039afb4144a1f6fd8d2ca17a180786b69acc140d282b71a49"
  },
  "kernelspec": {
   "display_name": "Python 3.7.9 64-bit",
   "language": "python",
   "name": "python3"
  },
  "language_info": {
   "codemirror_mode": {
    "name": "ipython",
    "version": 3
   },
   "file_extension": ".py",
   "mimetype": "text/x-python",
   "name": "python",
   "nbconvert_exporter": "python",
   "pygments_lexer": "ipython3",
   "version": "3.7.9"
  },
  "orig_nbformat": 4
 },
 "nbformat": 4,
 "nbformat_minor": 2
}
