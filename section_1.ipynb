{
 "cells": [
  {
   "cell_type": "markdown",
   "metadata": {},
   "source": [
    "# Section 1: Quick Start"
   ]
  },
  {
   "cell_type": "markdown",
   "metadata": {},
   "source": [
    "## What is docker? The three innovations"
   ]
  },
  {
   "cell_type": "markdown",
   "metadata": {},
   "source": [
    "### BUILD / SHIP / RUN\n",
    "The **BUILD/SHIP/RUN** cycle consists of three steps to take previously non containarized software, turn it into a docker image, put it on a registry and deploy it on containers.\n",
    "\n",
    "Most projects that gradudated from [the cloud native foundation](https://cncf.io) make the assumption that you're using a container workflow of build/ship/run\n"
   ]
  },
  {
   "cell_type": "markdown",
   "metadata": {},
   "source": [
    "###  The three innovations\n",
    "1. The docker **IMAGE**\n",
    "2. The docker **REGISTRY**\n",
    "3. The docker **CONTAINER**"
   ]
  },
  {
   "cell_type": "markdown",
   "metadata": {},
   "source": [
    "#### The cotainer image\n",
    "\n",
    "* Can be thought of as a universal app packager\n",
    "* Cross OS/Platform & application/language agnostic\n",
    "* All images start with a FROM clause, it could start from someone else's image and could be combined\n",
    "* Each subsequent section (or stanza) is executed in sequence\n",
    "    * These layer get moved around servers as tarballs\n",
    "    * Inside those layers are files/directories/permissions/metadata\n",
    "* Example Dockerfile:\n",
    "    * FROM python\n",
    "    * RUN pip install flask\n",
    "    * WORKDIR /app\n",
    "    * COPY . .\n",
    "    * CMD python app.py"
   ]
  },
  {
   "cell_type": "markdown",
   "metadata": {},
   "source": [
    "#### The docker registry \n",
    "\n",
    "* Known as the OCI registry spec, a standard for distributing the images.\n",
    "* Docker Hub is the default, github and gitlab have their own.\n",
    "* A built image has a unique SHA hash that will allow or verification between two systems/hosts that the image contains the same files/metadata...\n",
    "* Usualy done via the command docker push or docker pull\n",
    "* **This is one of the core values of docker. We can take software that made on one machine with all its dependencies and run it on another machine, seamlessly and regardless if the two machines are running on different distributions of an OS (will run the same on Ubuntu or CentOs)**"
   ]
  },
  {
   "cell_type": "markdown",
   "metadata": {},
   "source": [
    "#### The docker container \n",
    "\n",
    "* Running an image after downloading it into a server.\n",
    "* A container is known as a **namespace**. This is what makes sure that the app running inside the containers can't see the rest of the operating system.\n",
    "    * A namespace is basicly a blanch file system with only the files from the image that was built.\n",
    "    * It would have it's own IP address, NIC (Network Interface Controller) and process list.\n",
    "* Reruning the docker run command on that image would spin up a new instance of this image that is isolated from the first.\n",
    "    * If the docker run command if run on another server with a docker engine then it yields a high availability setup.\n"
   ]
  },
  {
   "cell_type": "markdown",
   "metadata": {},
   "source": [
    "## Quick Container Run\n"
   ]
  },
  {
   "cell_type": "markdown",
   "metadata": {},
   "source": [
    "Using the [Play With Docker Website](https://labs.play-with-docker.com/) we can run a few demo commands before doing any local installs of Docker\n",
    "\n",
    "* You will need an account with [Docker](https://hub.docker.com/), it's free\n",
    "* Once logged in to [Play With Docker Website](https://labs.play-with-docker.com/) you will see a green start button and once clicked a timer will be show for the time remaining in the session.\n",
    "* You will be able to deploy docker images on infrastructure provided by Docker.\n",
    "* Steps for demo:\n",
    "    * click on 'add new instances'\n",
    "    * run \"docker version\" :\n",
    "        * Gets details about the client and the engine currently running\n",
    "    * connecting to from client to server can happen over many ways:\n",
    "        * Socket\n",
    "        * TCP/TLS\n",
    "        * SSH tunnel\n",
    "    * run \"docker run -d -p 8800:80 httpd\"\n",
    "        * -d -> detach, runs in background\n",
    "        * -p -> port, which ports are opened and published on host IP so that it can be accessed remotely\n",
    "            * first number is the port on the host on which we're listening\n",
    "            * second number is the container port on which we're connecting\n",
    "        * httpd -> apache server image\n",
    "        * ouput will resemble the below:\n",
    "            * Unable to find image 'httpd:latest' locally\n",
    "            * latest: Pulling from library/httpd\n",
    "            * 1efc276f4ff9: Pull complete \n",
    "            * aed046121ed8: Pull complete \n",
    "            * 4340e7be3d7f: Pull complete \n",
    "            * 80e368ef21fc: Pull complete \n",
    "            * 80cb79a80bbe: Pull complete \n",
    "            * Digest: sha256:343452ec820a5d59eb3ab9aaa6201d193f91c3354f8c4f29705796d9353d4cc6\n",
    "            * Status: Downloaded newer image for httpd:latest\n",
    "            * bbaf9c895f19f301e40c7d2bd743127e372f8932b997ca238b5eaaeb13f6ec88\n",
    "        * The output can be interpreted as such:\n",
    "            * the various **layers** of the image are downloaded/pull\n",
    "            * then it will create the networking, virtual interface, file system, load the file from the image into the file system\n",
    "            * then it will startup the httpd process in its own namespace.  \n",
    "    * run a curl command on the local host (machine from which this container is being instanciated) to verify that it's up: curl localhost:8800\n",
    "        * output is: ```<html><body><h1>It works!</h1></body></html >```\n",
    "    * run \"docker ps\" to view running containers:\n",
    "        * | CONTAINER ID | IMAGE | COMMAND            | CREATED        | STATUS        | PORTS                | NAMES             |\n",
    "          |--------------|-------|--------------------|----------------|---------------|----------------------|-------------------|\n",
    "          | bbaf9c895f19 | httpd | \"httpd-foreground\" | 12 minutes ago | Up 12 minutes | 0.0.0.0:8800->80/tcp | confident_johnson |\n"
   ]
  },
  {
   "cell_type": "markdown",
   "metadata": {},
   "source": [
    "## Why Docker? Why Now?\n"
   ]
  },
  {
   "cell_type": "markdown",
   "metadata": {},
   "source": [
    "Docker's \"raison d'etre\" come from frictions that were being faced relating to speed a efficiency of packaging and deploying software.\n",
    "\n",
    "The three main reason are:\n",
    "* Isolation:\n",
    "    * During the move from mainframe to servers (early 2000s), it was very rare that an app would fully utilise the capacity of the servers on which they would run. You ended up with mutliple apps colocating on the same servers, this increased complexity in managing them and made them prone to outages (e.g: one change for an app would cause an effect on other apps).\n",
    "    * This lead to the emergence of VMs (Virtual Machines), fewer apps on multiple VMs all riding on the same hosts. This would lead to an exploding number of VMs which were each spun up with their own OS. Isolation was sort of solved but complexity outweighed the benefits.\n",
    "    * Then Docker comes along and removes the need for all the different operating systems on each VM. Each application has its own namespace that is isolated and managing them comes easily through the docker/kubernetes cli. You can now run multiple version of the same app on the same host without any conflict.\n",
    "* Environment\n",
    "    * With VMs also came the deployement of a large number of types of environments. The running joke being \"Works on my machine\".\n",
    "    * The container image has become a sort of contract between what the app runs and where its running. Just like actual shipping containers where those who ship something don't care what the ship that was carrying the container looked like and the people transporting the container didn't care what was inside it.\n",
    "        * This is done through a consistent standard (the OCI format) which has two specs, an image and a runtime spec.\n",
    "        * this ensures that the container will always be run with the same consistent way and same dependencies it was built with.\n",
    "* Speed\n",
    "    * Not the speed of CPU and processors but the speed of business, the ability to test and execute on ideas in a timely manner"
   ]
  },
  {
   "cell_type": "markdown",
   "metadata": {},
   "source": [
    "# Section 2: Course Intro"
   ]
  },
  {
   "cell_type": "markdown",
   "metadata": {},
   "source": [
    "## Getting Course Ressources"
   ]
  },
  {
   "cell_type": "markdown",
   "metadata": {},
   "source": [
    "### Github repo\n",
    "https://github.com/bretfisher/udemy-docker-mastery\n",
    "\n",
    "### Docker commands, cheatsheets & slides\n",
    "Downloaded in the \"course_ressources folder\""
   ]
  },
  {
   "cell_type": "markdown",
   "metadata": {},
   "source": [
    "# Section 3: The best way to setup Docker for your OS"
   ]
  },
  {
   "cell_type": "markdown",
   "metadata": {},
   "source": [
    "## Installing Docker\n",
    "\n",
    "Get the [Docker Desktop](https://www.docker.com/products/docker-desktop/) and install it on your machine.\n",
    "\n",
    "There are 3 major ways to run containers:\n",
    "* Locally (Docker Desktop, Remote Desktop)\n",
    "* Servers (Docker Engine, K8s)\n",
    "* PaaS (Cloud Run, Fargate)\n",
    "\n"
   ]
  },
  {
   "cell_type": "markdown",
   "metadata": {},
   "source": [
    "# Section 4: Creating and usig containers like a boss"
   ]
  },
  {
   "cell_type": "markdown",
   "metadata": {},
   "source": [
    "## 17.Check the Docker Install and Config\n"
   ]
  },
  {
   "cell_type": "markdown",
   "metadata": {},
   "source": [
    "### Check out the current version of Docker\n",
    "Returns the version of the **client** as well the server, a.k.a **the engine**"
   ]
  },
  {
   "cell_type": "code",
   "execution_count": null,
   "metadata": {},
   "outputs": [],
   "source": [
    "%%bash\n",
    "docker version"
   ]
  },
  {
   "cell_type": "markdown",
   "metadata": {},
   "source": [
    "### Get additional information on Docker"
   ]
  },
  {
   "cell_type": "code",
   "execution_count": null,
   "metadata": {},
   "outputs": [],
   "source": [
    "%%bash\n",
    "docker info"
   ]
  },
  {
   "cell_type": "markdown",
   "metadata": {},
   "source": [
    "### Getting the full list of commands in Docker\n",
    "\n",
    "This is not a full list of the commands. You will notice below the sub modules that are accessible via docker manage  \n",
    "commands, under **Management Commands:**\n",
    "  \n",
    "Management Commands:\n",
    "* builder     Manage builds\n",
    "* buildx*     Docker Buildx (Docker Inc., v0.8.2)\n",
    ".  \n",
    ".  \n",
    ".  \n"
   ]
  },
  {
   "cell_type": "code",
   "execution_count": null,
   "metadata": {},
   "outputs": [],
   "source": [
    "%%bash \n",
    "docker"
   ]
  },
  {
   "cell_type": "markdown",
   "metadata": {},
   "source": [
    "## 18.Starting a Nginx web server\n",
    "\n",
    "In this section we will:\n",
    "* contract images to containers\n",
    "* run/stop/remote containers\n",
    "* check container logs and process\n"
   ]
  },
  {
   "cell_type": "markdown",
   "metadata": {},
   "source": [
    "### Images vs. Containers\n",
    "\n",
    "**Images** are the binaries/libraries/source code that will make up our application. A **container** is a running   \n",
    "instance of that image. You can have mutliple containers running from the same image. \n",
    "\n",
    "Images are obtained from registries, [**Docker Hub**](https://hub.docker.com/) being the default registry.   \n",
    "(sort of what github is to source code, registries are to images)"
   ]
  },
  {
   "cell_type": "code",
   "execution_count": null,
   "metadata": {},
   "outputs": [],
   "source": [
    "%%bash\n",
    "# command to get the image from the registry and running it\n",
    "docker container run --publish 80:80 nginx"
   ]
  },
  {
   "cell_type": "markdown",
   "metadata": {},
   "source": [
    "In the background docker looked for the latest version of nginx in Docker Hub,  \n",
    "pulled it into our machine and started it  \n",
    "as a process. The --publish argument exposes my local port 80 and sends all  \n",
    "traffic comming to it to the container's  \n",
    "port 80."
   ]
  },
  {
   "cell_type": "markdown",
   "metadata": {},
   "source": [
    "If we don't want the process to run in the foreground we can add the --detach  \n",
    "argument and have all the above be done in the background."
   ]
  },
  {
   "cell_type": "code",
   "execution_count": null,
   "metadata": {},
   "outputs": [],
   "source": [
    "%%bash\n",
    "docker container run --publish 80:80 --detach nginx"
   ]
  },
  {
   "cell_type": "markdown",
   "metadata": {},
   "source": [
    "When the container was started in the background we got in the output the unique container ID which  \n",
    "we can use to compare with the output of the ```docker ps``` or ```docker container ls``` command."
   ]
  },
  {
   "cell_type": "code",
   "execution_count": null,
   "metadata": {},
   "outputs": [],
   "source": [
    "%%bash\n",
    "# we can check that the container is actually up and running\n",
    "docker ps"
   ]
  },
  {
   "cell_type": "code",
   "execution_count": null,
   "metadata": {},
   "outputs": [],
   "source": [
    "%%bash\n",
    "docker container ls"
   ]
  },
  {
   "cell_type": "markdown",
   "metadata": {},
   "source": [
    "To stop the running container you can use ```docker container stop ${CONTAINER_ID}```"
   ]
  },
  {
   "cell_type": "code",
   "execution_count": null,
   "metadata": {},
   "outputs": [],
   "source": [
    "%%bash\n",
    "docker container stop 188eb98e7d4e"
   ]
  },
  {
   "cell_type": "markdown",
   "metadata": {},
   "source": [
    "And verify that the container is no longer running"
   ]
  },
  {
   "cell_type": "code",
   "execution_count": null,
   "metadata": {},
   "outputs": [],
   "source": [
    "%%bash\n",
    "docker container ls"
   ]
  },
  {
   "cell_type": "markdown",
   "metadata": {},
   "source": [
    "If i want to see all the containers, even those that are not running then i use   \n",
    " ```docker container ls -a```"
   ]
  },
  {
   "cell_type": "code",
   "execution_count": null,
   "metadata": {},
   "outputs": [],
   "source": [
    "%%bash\n",
    "docker container ls -a"
   ]
  },
  {
   "cell_type": "markdown",
   "metadata": {},
   "source": [
    "We can always give names to our containers otherwise they will be given randomly generated  \n",
    "names using this syntax `<adjective>_<name_of_famous_scientist>`.   \n",
    "\n",
    "If we want to specify the name we use the argument `--name`"
   ]
  },
  {
   "cell_type": "code",
   "execution_count": null,
   "metadata": {},
   "outputs": [],
   "source": [
    "%%bash\n",
    "docker container run --publish 80:80 --detach --name webhost nginx\n",
    "docker container ls"
   ]
  },
  {
   "cell_type": "markdown",
   "metadata": {},
   "source": [
    "If we want to view the container logs we use `docker container logs ${CONTAINER_NAME}`"
   ]
  },
  {
   "cell_type": "code",
   "execution_count": null,
   "metadata": {},
   "outputs": [],
   "source": [
    "%%bash\n",
    "docker container logs webhost"
   ]
  },
  {
   "cell_type": "markdown",
   "metadata": {},
   "source": [
    "To view the processes in the container use `docker container top ${CONTAINER_NAME}`"
   ]
  },
  {
   "cell_type": "code",
   "execution_count": null,
   "metadata": {},
   "outputs": [],
   "source": [
    "%%bash\n",
    "docker container top webhost"
   ]
  },
  {
   "cell_type": "code",
   "execution_count": null,
   "metadata": {},
   "outputs": [],
   "source": [
    "%%bash\n",
    "#you can see that the new container had a custom name\n",
    "docker container stop d4ae91d827ab"
   ]
  },
  {
   "cell_type": "markdown",
   "metadata": {},
   "source": [
    "Cleanup the containers by listing all containers and removing them using  \n",
    "`docker container rm [${CONTAINER_ID}  ${CONTAINER_ID} ...]`"
   ]
  },
  {
   "cell_type": "code",
   "execution_count": null,
   "metadata": {},
   "outputs": [],
   "source": [
    "%%bash\n",
    "docker container ls -a"
   ]
  },
  {
   "cell_type": "code",
   "execution_count": null,
   "metadata": {},
   "outputs": [],
   "source": [
    "%%bash\n",
    "docker container rm d4a 188\n",
    "docker container ls -a"
   ]
  },
  {
   "cell_type": "markdown",
   "metadata": {},
   "source": [
    "## 19.Debrief, what happens when we run a container\n",
    "\n",
    "1. Looks for images in local cache\n",
    "2. Look for images in registry if not found locally\n",
    "3. Download the latest version\n",
    "4. Create and new container based on the image and prepare it for start-up\n",
    "5. Give the container a virtual IP on private network within the docker engine\n",
    "6. Open up a port on the host and forward it to the port in the container\n",
    "7. Start container based on CMD found in the image's Dockerfile"
   ]
  },
  {
   "cell_type": "markdown",
   "metadata": {},
   "source": [
    "## 20.Containers vs Virtual Machines"
   ]
  },
  {
   "cell_type": "markdown",
   "metadata": {},
   "source": [
    "### Containers aren't mini VMs\n",
    "\n",
    "* They are just processes\n",
    "* They are limited to what ressources they can access\n",
    "* They exit when process stops"
   ]
  },
  {
   "cell_type": "markdown",
   "metadata": {},
   "source": [
    "## 21.Window Containers: Should you consider them?\n",
    "\n",
    "Containers are restricted processes that are running on the host's OS kernel.  \n",
    "For example a Python image built for linux/x84_64 won't run as a python.exe on   \n",
    "a Windows kernel. Which is why Docker utilizes a lightwheight Linux VM to run  \n",
    "the containers.\n",
    "\n",
    "From Docker's inception in 2013 to 2016, we could build images for multiple  \n",
    "architectures (amd64, arm/v6, arm/v7, i386, etc.) but not for the Windows   \n",
    "kernel itself. Docker was Linux-only.\n",
    "\n",
    "In 2016 we got \"Windows Containers\" support from Microsoft. When you think of   \n",
    "images, realize they are always kernel (Linux/Windows) and architecture   \n",
    "(arm64, amd64, etc.) specific. Docker does this seamlessly in the background  \n",
    "with a \"manifest\". It downloads the best image for the platform your Docker  \n",
    "Engine is running on.\n",
    "\n",
    "You can enable Windows Container mode in Docker Desktop for Windows by clicking  \n",
    "\"Switch to Windows containers\" in the Docker whale menu, which then switches  \n",
    "from WSL2 to Hyper-V running a slim Windows VM. It's an either-or setting,  \n",
    "you'll have to decide which OS you want to run your containers on and stick to it.  \n",
    "\n",
    "Sadly, the truth is that Windows Containers never caught on in a major way.  \n",
    "Microsoft even built a Windows-based MSSQL image, but has since discontinued   \n",
    "it in 2021 in favor of their Linux-based MSSQL image."
   ]
  },
  {
   "cell_type": "markdown",
   "metadata": {},
   "source": [
    "## 22.Arm Support for MySQL\n",
    "\n",
    "The official MySQL image only supports Intel/AMD processors. MariaDB is an  \n",
    "alternative if you're using Apple M1 or Raspberry Pi (both based on arm64 processors)."
   ]
  },
  {
   "cell_type": "markdown",
   "metadata": {},
   "source": [
    "## 23-24.Assignement: Manage multiple containers\n",
    "\n",
    "[Docker Official Documentation](https://docs.docker.com) is your friend as well  as the --help argument at the end of each command.\n",
    "\n",
    "### Assignement Instructions\n",
    "* Run an `nginx`, `mysql` and `httpd` (apache) server\n",
    "* Run all of the in `--detach` mode (-d), name them with --name\n",
    "* Specify the ports, nginx should listen to 80:80, httpd to 8080:80 and mysql to 3306:3306\n",
    "* When running mysql, use the `--env` option (-e) to pass in `MYSQL_RANDOM_ROOT_PASSWORD=yes`\n",
    "* Use the `docker container logs` on mysql to find the random password on startup\n",
    "* Clean it all up afterwards using the `docker container stop` and `docker container rm`\n",
    "* Verify that everything got shutdown correctly using the `docker container ls`\n",
    "\n",
    "\n",
    "\n",
    "\n",
    "\n"
   ]
  },
  {
   "cell_type": "code",
   "execution_count": null,
   "metadata": {},
   "outputs": [],
   "source": [
    "%%bash\n",
    "# run instances\n",
    "docker container run --detach -p 80:80 --name nginx nginx\n",
    "docker container run --detach -p 8080:80 --name httpd httpd\n",
    "docker container run --detach -p 3306:3306 -e MYSQL_RANDOM_ROOT_PASSWORD='yes' --name mysql mysql \n"
   ]
  },
  {
   "cell_type": "code",
   "execution_count": null,
   "metadata": {},
   "outputs": [],
   "source": [
    "%%bash \n",
    "#verify instances\n",
    "docker container ls"
   ]
  },
  {
   "cell_type": "code",
   "execution_count": null,
   "metadata": {},
   "outputs": [],
   "source": [
    "%%bash\n",
    "# find generated password\n",
    "docker container logs mysql | grep \"GENERATED ROOT PASSWORD\""
   ]
  },
  {
   "cell_type": "code",
   "execution_count": null,
   "metadata": {},
   "outputs": [],
   "source": [
    "%%bash\n",
    "# cleanup\n",
    "docker container stop nginx\n",
    "docker container stop httpd\n",
    "docker container stop mysql\n",
    "docker container rm nginx\n",
    "docker container rm httpd\n",
    "docker container rm mysql"
   ]
  },
  {
   "cell_type": "markdown",
   "metadata": {},
   "source": [
    "## 25.What's going on in containers: CLI process monitoring"
   ]
  },
  {
   "cell_type": "markdown",
   "metadata": {},
   "source": [
    "### Useful commands to view container processes\n",
    "\n",
    "1. docker cotainer top - process list in one container\n",
    "2. docker container inspect - detials of one container config\n",
    "3. docker container stats - performance stats for all containers"
   ]
  },
  {
   "cell_type": "code",
   "execution_count": null,
   "metadata": {},
   "outputs": [],
   "source": [
    "%%bash\n",
    "# run instances\n",
    "docker container run --detach -p 80:80 --name nginx nginx\n",
    "docker container run --detach -p 3306:3306 -e MYSQL_RANDOM_ROOT_PASSWORD='yes' --name mysql mysql "
   ]
  },
  {
   "cell_type": "code",
   "execution_count": null,
   "metadata": {},
   "outputs": [],
   "source": [
    "%%bash\n",
    "docker container top nginx"
   ]
  },
  {
   "cell_type": "code",
   "execution_count": null,
   "metadata": {},
   "outputs": [],
   "source": [
    "%%bash\n",
    "docker container inspect mysql"
   ]
  },
  {
   "cell_type": "code",
   "execution_count": null,
   "metadata": {},
   "outputs": [],
   "source": [
    "%%bash\n",
    "docker container stats"
   ]
  },
  {
   "cell_type": "code",
   "execution_count": null,
   "metadata": {},
   "outputs": [],
   "source": [
    "%%bash\n",
    "# cleanup\n",
    "docker container stop nginx\n",
    "docker container stop mysql\n",
    "docker container rm nginx\n",
    "docker container rm mysql"
   ]
  },
  {
   "cell_type": "markdown",
   "metadata": {},
   "source": [
    "## 26-27. Getting a shell inside the container\n",
    "\n",
    "### Useful commands\n",
    "\n",
    "1. docker container run -it - start a new container interactively\n",
    "2. docker container exec -it - run additional commands in existing container\n",
    "\n",
    "\n"
   ]
  },
  {
   "cell_type": "markdown",
   "metadata": {},
   "source": [
    "### docker run -it\n",
    "-i : interactive  \n",
    "-t : allocate a pseudo TTY (a prompt similar to ssh)  \n",
    "bash : an optional argument that can be passed to the container on startup  \n",
    "here it makes the container start with a bash terminal  \n",
    "\n",
    "\n",
    "docker container run -it --name nginx nginx bash\n",
    "\n",
    "#### Command \n",
    "docker container run -it --name nginx nginx bash\n",
    "\n",
    "Notice that when exiting the shell the container gets stopped"
   ]
  },
  {
   "cell_type": "markdown",
   "metadata": {},
   "source": [
    "### docker run -it\n",
    "\n",
    "If I want to see a shell inside an already running container\n",
    "\n",
    "#### Command:\n",
    "docker container exec -it nginx bash\n",
    "\n"
   ]
  },
  {
   "cell_type": "markdown",
   "metadata": {},
   "source": [
    "## 28-29 Docker networks: concepts for private and public comms in containers\n",
    "\n",
    "When starting a container you're connecting, in the background, to a particular  \n",
    "docker network (the default being the bridge network).\n",
    "\n",
    "\n",
    "Each virtual network routes through a NAT firewall on host IP. The Docker deamon  \n",
    "configuring the host IP on it default interface so that your containers can   \n",
    "interact with the internet.\n",
    "\n",
    "[NAT Firewal Definition](https://nordvpn.com/blog/what-is-nat-firewall/)\n",
    "```  \n",
    "A Network Address Translation (NAT) firewall operates on a router to protect  \n",
    "private networks. It works by only allowing internet traffic to pass through if  \n",
    "a device on the private network requested it. A NAT firewall protects the   \n",
    "identity of a network and doesn't show internal IP addresses to the internet.\n",
    "```  \n",
    "\n",
    "All containers within a network can talk to each other inside the host  \n",
    "without the -p (port). For example a mysql and a php/apache container can  \n",
    "communicate on the same network named \"my_web_app\" without exposing their ports  \n",
    "to the rest of the physical network.\n",
    "\n",
    "This brings us to the concept of `\"Batteries included, but removable\"` which  \n",
    "means that the defaults work well in most cases but are easily customizable  \n",
    "(creating mutliple network, one per app, or different networks depending on  \n",
    "security requirements)\n",
    "\n",
    "You can attach container to more than one virtual network (or none).\n",
    "\n",
    "\n",
    "\n"
   ]
  },
  {
   "cell_type": "code",
   "execution_count": null,
   "metadata": {},
   "outputs": [],
   "source": [
    "%%bash\n",
    "docker container run -d  -p 80:80 --name nginx nginx"
   ]
  },
  {
   "cell_type": "code",
   "execution_count": null,
   "metadata": {},
   "outputs": [],
   "source": [
    "%%bash\n",
    "#Here we see that the host port 80 is exposed to the container's port 80 \n",
    "#through a tcp connexion\n",
    "docker container port nginx"
   ]
  },
  {
   "cell_type": "code",
   "execution_count": null,
   "metadata": {},
   "outputs": [],
   "source": [
    "%%bash\n",
    "#We may assume that the container uses the same IP as the host but by default \n",
    "#that is not true. We'll use the format comand instead of grep to filter\n",
    "#to the correct node in the json output off the docker inspect command\n",
    "docker container inspect --format \"{{.NetworkSettings.IPAddress}}\" nginx"
   ]
  },
  {
   "cell_type": "code",
   "execution_count": null,
   "metadata": {},
   "outputs": [],
   "source": [
    "%%bash \n",
    "docker container stop nginx\n",
    "docker container rm nginx"
   ]
  },
  {
   "cell_type": "code",
   "execution_count": null,
   "metadata": {},
   "outputs": [],
   "source": [
    "%%bash\n",
    "#check the host's IP address, it does't have to match that of the host\n",
    "ifconfig en0"
   ]
  },
  {
   "cell_type": "markdown",
   "metadata": {},
   "source": [
    "## 30.Docker Netwoks: CLI Management of Virtual Networks"
   ]
  },
  {
   "cell_type": "markdown",
   "metadata": {},
   "source": [
    "### Useful commands\n",
    "\n",
    "* Show networks `docker network ls`\n",
    "* Inspect a network `docker network inspect`\n",
    "* Create a network `docker network create --driver`\n",
    "    * It has the optional `--driver` argument that we can use to specify built-in  \n",
    "    or third-party driver to create virtual networks\n",
    "* Attach/detach a network to a conttainer `docker netwrok connect/disconnect`\n",
    "    * Used t connect/disconnect a live running container so that a NIC is   \n",
    "    created/destroyed on a virtual network for that container."
   ]
  },
  {
   "cell_type": "code",
   "execution_count": null,
   "metadata": {},
   "outputs": [],
   "source": [
    "%%bash\n",
    "docker network ls"
   ]
  },
  {
   "cell_type": "markdown",
   "metadata": {},
   "source": [
    "### Bridge Network \n",
    "\n",
    "The bridge network is the default network that bridges throught the [NAT firewall](https://www.comparitech.com/blog/vpn-privacy/nat-firewall/)  \n",
    "to the physical network that your host is connected to.\n",
    "\n",
    "* (Note) A NAT firewall works by only allowing internet traffic to pass through the gateway if a device on the private network requested it. \n"
   ]
  },
  {
   "cell_type": "code",
   "execution_count": null,
   "metadata": {},
   "outputs": [],
   "source": [
    "%%bash \n",
    "docker network inspect bridge\n"
   ]
  },
  {
   "cell_type": "code",
   "execution_count": null,
   "metadata": {},
   "outputs": [],
   "source": [
    "%%bash\n",
    "## to find a specific item in the docker netork inspect\n",
    "docker network inspect bridge --format {{.IPAM.Config}} "
   ]
  },
  {
   "cell_type": "markdown",
   "metadata": {},
   "source": [
    "### The host network\n",
    "\n",
    "A special kind of network that skips the virtual network of Docker and attaches  \n",
    "the container directly to the host interface. Its a boost for performance but  \n",
    "sacrifices in security."
   ]
  },
  {
   "cell_type": "code",
   "execution_count": null,
   "metadata": {},
   "outputs": [],
   "source": [
    "%%bash\n",
    "docker network inspect host"
   ]
  },
  {
   "cell_type": "markdown",
   "metadata": {},
   "source": [
    "### Creating a new network\n",
    "\n",
    "Notice how the default for `DRIVER` for the new network was `bridge`. It's a  \n",
    "built-in driver that create a virtual network locally with its own subnet. It  \n",
    "lacks some of the more advanced features, such as private networking between hosts  \n",
    "like other 3rd party driver like `Weave`"
   ]
  },
  {
   "cell_type": "code",
   "execution_count": null,
   "metadata": {},
   "outputs": [],
   "source": [
    "%%bash\n",
    "docker network create my_app_net"
   ]
  },
  {
   "cell_type": "code",
   "execution_count": null,
   "metadata": {},
   "outputs": [],
   "source": [
    "%%bash\n",
    "docker network ls"
   ]
  },
  {
   "cell_type": "code",
   "execution_count": null,
   "metadata": {},
   "outputs": [],
   "source": [
    "%%bash\n",
    "#check out all the arguments that you can specify during the creatiion of networks\n",
    "docker network create --help"
   ]
  },
  {
   "cell_type": "markdown",
   "metadata": {},
   "source": [
    "### Assigning a network to a container on startup\n",
    "\n",
    "Using the `--network` option"
   ]
  },
  {
   "cell_type": "code",
   "execution_count": null,
   "metadata": {},
   "outputs": [],
   "source": [
    "%%bash\n",
    "docker container run -d -p 80:80 --name nginx --network my_app_net nginx"
   ]
  },
  {
   "cell_type": "code",
   "execution_count": null,
   "metadata": {},
   "outputs": [],
   "source": [
    "%%bash\n",
    "#You will see the new container running on this network\n",
    "docker network inspect my_app_net"
   ]
  },
  {
   "cell_type": "markdown",
   "metadata": {},
   "source": [
    "### Connecting running containers to existing networks"
   ]
  },
  {
   "cell_type": "code",
   "execution_count": null,
   "metadata": {},
   "outputs": [],
   "source": [
    "%%bash\n",
    "docker network --help"
   ]
  },
  {
   "cell_type": "code",
   "execution_count": null,
   "metadata": {},
   "outputs": [],
   "source": [
    "%%bash\n",
    "docker container ls"
   ]
  },
  {
   "cell_type": "code",
   "execution_count": null,
   "metadata": {},
   "outputs": [],
   "source": [
    "%%bash\n",
    "docker network ls "
   ]
  },
  {
   "cell_type": "code",
   "execution_count": null,
   "metadata": {},
   "outputs": [],
   "source": [
    "%%bash\n",
    "## connect the nginx container (aready connected to the my_app_net) to the default  \n",
    "## bridge network\n",
    "docker network connect bridge nginx"
   ]
  },
  {
   "cell_type": "code",
   "execution_count": null,
   "metadata": {},
   "outputs": [],
   "source": [
    "%%bash\n",
    "##inspecting the nginx container, you'll now see that its on two networks\n",
    "docker container inspect --format {{.NetworkSettings.Networks}} nginx"
   ]
  },
  {
   "cell_type": "code",
   "execution_count": null,
   "metadata": {},
   "outputs": [],
   "source": [
    "%%bash\n",
    "## to reverse out the above\n",
    "docker network disconnect bridge nginx"
   ]
  },
  {
   "cell_type": "code",
   "execution_count": null,
   "metadata": {},
   "outputs": [],
   "source": [
    "%%bash\n",
    "##inspecting the nginx container, you'll now see only one left\n",
    "docker container inspect --format {{.NetworkSettings.Networks}} nginx"
   ]
  },
  {
   "cell_type": "code",
   "execution_count": null,
   "metadata": {},
   "outputs": [],
   "source": [
    "%%bash\n",
    "docker container stop nginx"
   ]
  },
  {
   "cell_type": "markdown",
   "metadata": {},
   "source": [
    "## 31.Docker Networks: DNS & how containers find each other"
   ]
  },
  {
   "cell_type": "markdown",
   "metadata": {},
   "source": []
  }
 ],
 "metadata": {
  "kernelspec": {
   "display_name": "Python 3.8.9 ('venv': venv)",
   "language": "python",
   "name": "python3"
  },
  "language_info": {
   "codemirror_mode": {
    "name": "ipython",
    "version": 3
   },
   "file_extension": ".py",
   "mimetype": "text/x-python",
   "name": "python",
   "nbconvert_exporter": "python",
   "pygments_lexer": "ipython3",
   "version": "3.8.9"
  },
  "orig_nbformat": 4,
  "vscode": {
   "interpreter": {
    "hash": "f1a23c564728641ca86074dd852d1ffb282b3050b004cca28db58ced15900872"
   }
  }
 },
 "nbformat": 4,
 "nbformat_minor": 2
}
