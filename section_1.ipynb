{
 "cells": [
  {
   "cell_type": "markdown",
   "metadata": {},
   "source": [
    "# Section 1: Quick Start"
   ]
  },
  {
   "cell_type": "markdown",
   "metadata": {},
   "source": [
    "## What is docker? The three innovations"
   ]
  },
  {
   "cell_type": "markdown",
   "metadata": {},
   "source": [
    "### BUILD / SHIP / RUN\n",
    "The **BUILD/SHIP/RUN** cycle consists of three steps to take previously non containarized software, turn it into a docker image, put it on a registry and deploy it on containers.\n",
    "\n",
    "Most projects that gradudated from [the cloud native foundation](https://cncf.io) make the assumption that you're using a container workflow of build/ship/run\n"
   ]
  },
  {
   "cell_type": "markdown",
   "metadata": {},
   "source": [
    "###  The three innovations\n",
    "1. The docker **IMAGE**\n",
    "2. The docker **REGISTRY**\n",
    "3. The docker **CONTAINER**"
   ]
  },
  {
   "cell_type": "markdown",
   "metadata": {},
   "source": [
    "#### The cotainer image\n",
    "\n",
    "* Can be thought of as a universal app packager\n",
    "* Cross OS/Platform & application/language agnostic\n",
    "* All images start with a FROM clause, it could start from someone else's image and could be combined\n",
    "* Each subsequent section (or stanza) is executed in sequence\n",
    "    * These layer get moved around servers as tarballs\n",
    "    * Inside those layers are files/directories/permissions/metadata\n",
    "* Example Dockerfile:\n",
    "    * FROM python\n",
    "    * RUN pip install flask\n",
    "    * WORKDIR /app\n",
    "    * COPY . .\n",
    "    * CMD python app.py"
   ]
  },
  {
   "cell_type": "markdown",
   "metadata": {},
   "source": [
    "#### The docker registry \n",
    "\n",
    "* Known as the OCI registry spec, a standard for distributing the images.\n",
    "* Docker Hub is the default, github and gitlab have their own.\n",
    "* A built image has a unique SHA hash that will allow or verification between two systems/hosts that the image contains the same files/metadata...\n",
    "* Usualy done via the command docker push or docker pull\n",
    "* **This is one of the core values of docker. We can take software that made on one machine with all its dependencies and run it on another machine, seamlessly and regardless if the two machines are running on different distributions of an OS (will run the same on Ubuntu or CentOs)**"
   ]
  },
  {
   "cell_type": "markdown",
   "metadata": {},
   "source": [
    "#### The docker container \n",
    "\n",
    "* Running an image after downloading it into a server.\n",
    "* A container is known as a **namespace**. This is what makes sure that the app running inside the containers can't see the rest of the operating system.\n",
    "    * A namespace is basicly a blanch file system with only the files from the image that was built.\n",
    "    * It would have it's own IP address, NIC (Network Interface Controller) and process list.\n",
    "* Reruning the docker run command on that image would spin up a new instance of this image that is isolated from the first.\n",
    "    * If the docker run command if run on another server with a docker engine then it yields a high availability setup.\n"
   ]
  },
  {
   "cell_type": "markdown",
   "metadata": {},
   "source": [
    "## Quick Container Run\n"
   ]
  },
  {
   "cell_type": "markdown",
   "metadata": {},
   "source": [
    "Using the [Play With Docker Website](https://labs.play-with-docker.com/) we can run a few demo commands before doing any local installs of Docker\n",
    "\n",
    "* You will need an account with [Docker](https://hub.docker.com/), it's free\n",
    "* Once logged in to [Play With Docker Website](https://labs.play-with-docker.com/) you will see a green start button and once clicked a timer will be show for the time remaining in the session.\n",
    "* You will be able to deploy docker images on infrastructure provided by Docker.\n",
    "* Steps for demo:\n",
    "    * click on 'add new instances'\n",
    "    * run \"docker version\" :\n",
    "        * Gets details about the client and the engine currently running\n",
    "    * connecting to from client to server can happen over many ways:\n",
    "        * Socket\n",
    "        * TCP/TLS\n",
    "        * SSH tunnel\n",
    "    * run \"docker run -d -p 8800:80 httpd\"\n",
    "        * -d -> detach, runs in background\n",
    "        * -p -> port, which ports are opened and published on host IP so that it can be accessed remotely\n",
    "            * first number is the port on the host on which we're listening\n",
    "            * second number is the container port on which we're connecting\n",
    "        * httpd -> apache server image\n",
    "        * ouput will resemble the below:\n",
    "            * Unable to find image 'httpd:latest' locally\n",
    "            * latest: Pulling from library/httpd\n",
    "            * 1efc276f4ff9: Pull complete \n",
    "            * aed046121ed8: Pull complete \n",
    "            * 4340e7be3d7f: Pull complete \n",
    "            * 80e368ef21fc: Pull complete \n",
    "            * 80cb79a80bbe: Pull complete \n",
    "            * Digest: sha256:343452ec820a5d59eb3ab9aaa6201d193f91c3354f8c4f29705796d9353d4cc6\n",
    "            * Status: Downloaded newer image for httpd:latest\n",
    "            * bbaf9c895f19f301e40c7d2bd743127e372f8932b997ca238b5eaaeb13f6ec88\n",
    "        * The output can be interpreted as such:\n",
    "            * the various **layers** of the image are downloaded/pull\n",
    "            * then it will create the networking, virtual interface, file system, load the file from the image into the file system\n",
    "            * then it will startup the httpd process in its own namespace.  \n",
    "    * run a curl command on the local host (machine from which this container is being instanciated) to verify that it's up: curl localhost:8800\n",
    "        * output is: ```<html><body><h1>It works!</h1></body></html >```\n",
    "    * run \"docker ps\" to view running containers:\n",
    "        * | CONTAINER ID | IMAGE | COMMAND            | CREATED        | STATUS        | PORTS                | NAMES             |\n",
    "          |--------------|-------|--------------------|----------------|---------------|----------------------|-------------------|\n",
    "          | bbaf9c895f19 | httpd | \"httpd-foreground\" | 12 minutes ago | Up 12 minutes | 0.0.0.0:8800->80/tcp | confident_johnson |\n"
   ]
  },
  {
   "cell_type": "markdown",
   "metadata": {},
   "source": [
    "## Why Docker? Why Now?\n"
   ]
  },
  {
   "cell_type": "markdown",
   "metadata": {},
   "source": [
    "Docker's \"raison d'etre\" come from frictions that were being faced relating to speed a efficiency of packaging and deploying software.\n",
    "\n",
    "The three main reason are:\n",
    "* Isolation:\n",
    "    * During the move from mainframe to servers (early 2000s), it was very rare that an app would fully utilise the capacity of the servers on which they would run. You ended up with mutliple apps colocating on the same servers, this increased complexity in managing them and made them prone to outages (e.g: one change for an app would cause an effect on other apps).\n",
    "    * This lead to the emergence of VMs (Virtual Machines), fewer apps on multiple VMs all riding on the same hosts. This would lead to an exploding number of VMs which were each spun up with their own OS. Isolation was sort of solved but complexity outweighed the benefits.\n",
    "    * Then Docker comes along and removes the need for all the different operating systems on each VM. Each application has its own namespace that is isolated and managing them comes easily through the docker/kubernetes cli. You can now run multiple version of the same app on the same host without any conflict.\n",
    "* Environment\n",
    "    * With VMs also came the deployement of a large number of types of environments. The running joke being \"Works on my machine\".\n",
    "    * The container image has become a sort of contract between what the app runs and where its running. Just like actual shipping containers where those who ship something don't care what the ship that was carrying the container looked like and the people transporting the container didn't care what was inside it.\n",
    "        * This is done through a consistent standard (the OCI format) which has two specs, an image and a runtime spec.\n",
    "        * this ensures that the container will always be run with the same consistent way and same dependencies it was built with.\n",
    "* Speed\n",
    "    * Not the speed of CPU and processors but the speed of business, the ability to test and execute on ideas in a timely manner"
   ]
  },
  {
   "cell_type": "markdown",
   "metadata": {},
   "source": [
    "# Section 2: Course Intro"
   ]
  },
  {
   "cell_type": "markdown",
   "metadata": {},
   "source": [
    "## Getting Course Ressources"
   ]
  },
  {
   "cell_type": "markdown",
   "metadata": {},
   "source": [
    "### Github repo\n",
    "https://github.com/bretfisher/udemy-docker-mastery\n",
    "\n",
    "### Docker commands, cheatsheets & slides\n",
    "Downloaded in the \"course_ressources folder\""
   ]
  },
  {
   "cell_type": "markdown",
   "metadata": {},
   "source": [
    "# Section 3: The best way to setup Docker for your OS"
   ]
  },
  {
   "cell_type": "markdown",
   "metadata": {},
   "source": [
    "## Installing Docker\n",
    "\n",
    "Get the [Docker Desktop](https://www.docker.com/products/docker-desktop/) and install it on your machine.\n",
    "\n",
    "There are 3 major ways to run containers:\n",
    "* Locally (Docker Desktop, Remote Desktop)\n",
    "* Servers (Docker Engine, K8s)\n",
    "* PaaS (Cloud Run, Fargate)\n",
    "\n"
   ]
  },
  {
   "cell_type": "markdown",
   "metadata": {},
   "source": [
    "# Section 4: Creating and usig containers like a boss"
   ]
  },
  {
   "cell_type": "markdown",
   "metadata": {},
   "source": [
    "## Check the Docker Install and Config"
   ]
  },
  {
   "cell_type": "markdown",
   "metadata": {},
   "source": [
    "### Check out the current version of Docker\n",
    "\n",
    "Returns the version of the **client** as well the server, a.k.a **the engine**"
   ]
  },
  {
   "cell_type": "code",
   "execution_count": 1,
   "metadata": {},
   "outputs": [
    {
     "name": "stdout",
     "output_type": "stream",
     "text": [
      "Client:\n",
      " Cloud integration: v1.0.28\n",
      " Version:           20.10.17\n",
      " API version:       1.41\n",
      " Go version:        go1.17.11\n",
      " Git commit:        100c701\n",
      " Built:             Mon Jun  6 23:04:45 2022\n",
      " OS/Arch:           darwin/amd64\n",
      " Context:           default\n",
      " Experimental:      true\n",
      "\n",
      "Server: Docker Desktop 4.11.1 (84025)\n",
      " Engine:\n",
      "  Version:          20.10.17\n",
      "  API version:      1.41 (minimum version 1.12)\n",
      "  Go version:       go1.17.11\n",
      "  Git commit:       a89b842\n",
      "  Built:            Mon Jun  6 23:01:23 2022\n",
      "  OS/Arch:          linux/amd64\n",
      "  Experimental:     false\n",
      " containerd:\n",
      "  Version:          1.6.6\n",
      "  GitCommit:        10c12954828e7c7c9b6e0ea9b0c02b01407d3ae1\n",
      " runc:\n",
      "  Version:          1.1.2\n",
      "  GitCommit:        v1.1.2-0-ga916309\n",
      " docker-init:\n",
      "  Version:          0.19.0\n",
      "  GitCommit:        de40ad0\n"
     ]
    }
   ],
   "source": [
    "%%bash\n",
    "docker version"
   ]
  },
  {
   "cell_type": "markdown",
   "metadata": {},
   "source": [
    "### Get additional information on Docker"
   ]
  },
  {
   "cell_type": "code",
   "execution_count": 2,
   "metadata": {},
   "outputs": [
    {
     "name": "stdout",
     "output_type": "stream",
     "text": [
      "Client:\n",
      " Context:    default\n",
      " Debug Mode: false\n",
      " Plugins:\n",
      "  buildx: Docker Buildx (Docker Inc., v0.8.2)\n",
      "  compose: Docker Compose (Docker Inc., v2.7.0)\n",
      "  extension: Manages Docker extensions (Docker Inc., v0.2.8)\n",
      "  sbom: View the packaged-based Software Bill Of Materials (SBOM) for an image (Anchore Inc., 0.6.0)\n",
      "  scan: Docker Scan (Docker Inc., v0.17.0)\n",
      "\n",
      "Server:\n",
      " Containers: 0\n",
      "  Running: 0\n",
      "  Paused: 0\n",
      "  Stopped: 0\n",
      " Images: 0\n",
      " Server Version: 20.10.17\n",
      " Storage Driver: overlay2\n",
      "  Backing Filesystem: extfs\n",
      "  Supports d_type: true\n",
      "  Native Overlay Diff: true\n",
      "  userxattr: false\n",
      " Logging Driver: json-file\n",
      " Cgroup Driver: cgroupfs\n",
      " Cgroup Version: 2\n",
      " Plugins:\n",
      "  Volume: local\n",
      "  Network: bridge host ipvlan macvlan null overlay\n",
      "  Log: awslogs fluentd gcplogs gelf journald json-file local logentries splunk syslog\n",
      " Swarm: inactive\n",
      " Runtimes: runc io.containerd.runc.v2 io.containerd.runtime.v1.linux\n",
      " Default Runtime: runc\n",
      " Init Binary: docker-init\n",
      " containerd version: 10c12954828e7c7c9b6e0ea9b0c02b01407d3ae1\n",
      " runc version: v1.1.2-0-ga916309\n",
      " init version: de40ad0\n",
      " Security Options:\n",
      "  seccomp\n",
      "   Profile: default\n",
      "  cgroupns\n",
      " Kernel Version: 5.10.104-linuxkit\n",
      " Operating System: Docker Desktop\n",
      " OSType: linux\n",
      " Architecture: x86_64\n",
      " CPUs: 2\n",
      " Total Memory: 1.94GiB\n",
      " Name: docker-desktop\n",
      " ID: VDHN:WM6X:3VAN:64ZG:4SMI:XAS5:NTJC:5VHU:XHNM:KVGF:DZDG:MIR4\n",
      " Docker Root Dir: /var/lib/docker\n",
      " Debug Mode: false\n",
      " HTTP Proxy: http.docker.internal:3128\n",
      " HTTPS Proxy: http.docker.internal:3128\n",
      " No Proxy: hubproxy.docker.internal\n",
      " Registry: https://index.docker.io/v1/\n",
      " Labels:\n",
      " Experimental: false\n",
      " Insecure Registries:\n",
      "  hubproxy.docker.internal:5000\n",
      "  127.0.0.0/8\n",
      " Live Restore Enabled: false\n",
      "\n"
     ]
    }
   ],
   "source": [
    "%%bash\n",
    "docker info"
   ]
  },
  {
   "cell_type": "markdown",
   "metadata": {},
   "source": [
    "### Getting the full list of commands in Docker\n",
    "\n",
    "This is not a full list of the commands. You will notice below the sub modules that are accessible via docker manage  \n",
    "commands, under **Management Commands:**\n",
    "  \n",
    "Management Commands:\n",
    "* builder     Manage builds\n",
    "* buildx*     Docker Buildx (Docker Inc., v0.8.2)\n",
    ".  \n",
    ".  \n",
    ".  \n"
   ]
  },
  {
   "cell_type": "code",
   "execution_count": 4,
   "metadata": {},
   "outputs": [
    {
     "name": "stderr",
     "output_type": "stream",
     "text": [
      "\n",
      "Usage:  docker [OPTIONS] COMMAND\n",
      "\n",
      "A self-sufficient runtime for containers\n",
      "\n",
      "Options:\n",
      "      --config string      Location of client config files (default\n",
      "                           \"/Users/karimitani/.docker\")\n",
      "  -c, --context string     Name of the context to use to connect to the\n",
      "                           daemon (overrides DOCKER_HOST env var and\n",
      "                           default context set with \"docker context use\")\n",
      "  -D, --debug              Enable debug mode\n",
      "  -H, --host list          Daemon socket(s) to connect to\n",
      "  -l, --log-level string   Set the logging level\n",
      "                           (\"debug\"|\"info\"|\"warn\"|\"error\"|\"fatal\")\n",
      "                           (default \"info\")\n",
      "      --tls                Use TLS; implied by --tlsverify\n",
      "      --tlscacert string   Trust certs signed only by this CA (default\n",
      "                           \"/Users/karimitani/.docker/ca.pem\")\n",
      "      --tlscert string     Path to TLS certificate file (default\n",
      "                           \"/Users/karimitani/.docker/cert.pem\")\n",
      "      --tlskey string      Path to TLS key file (default\n",
      "                           \"/Users/karimitani/.docker/key.pem\")\n",
      "      --tlsverify          Use TLS and verify the remote\n",
      "  -v, --version            Print version information and quit\n",
      "\n",
      "Management Commands:\n",
      "  builder     Manage builds\n",
      "  buildx*     Docker Buildx (Docker Inc., v0.8.2)\n",
      "  compose*    Docker Compose (Docker Inc., v2.7.0)\n",
      "  config      Manage Docker configs\n",
      "  container   Manage containers\n",
      "  context     Manage contexts\n",
      "  extension*  Manages Docker extensions (Docker Inc., v0.2.8)\n",
      "  image       Manage images\n",
      "  manifest    Manage Docker image manifests and manifest lists\n",
      "  network     Manage networks\n",
      "  node        Manage Swarm nodes\n",
      "  plugin      Manage plugins\n",
      "  sbom*       View the packaged-based Software Bill Of Materials (SBOM) for an image (Anchore Inc., 0.6.0)\n",
      "  scan*       Docker Scan (Docker Inc., v0.17.0)\n",
      "  secret      Manage Docker secrets\n",
      "  service     Manage services\n",
      "  stack       Manage Docker stacks\n",
      "  swarm       Manage Swarm\n",
      "  system      Manage Docker\n",
      "  trust       Manage trust on Docker images\n",
      "  volume      Manage volumes\n",
      "\n",
      "Commands:\n",
      "  attach      Attach local standard input, output, and error streams to a running container\n",
      "  build       Build an image from a Dockerfile\n",
      "  commit      Create a new image from a container's changes\n",
      "  cp          Copy files/folders between a container and the local filesystem\n",
      "  create      Create a new container\n",
      "  diff        Inspect changes to files or directories on a container's filesystem\n",
      "  events      Get real time events from the server\n",
      "  exec        Run a command in a running container\n",
      "  export      Export a container's filesystem as a tar archive\n",
      "  history     Show the history of an image\n",
      "  images      List images\n",
      "  import      Import the contents from a tarball to create a filesystem image\n",
      "  info        Display system-wide information\n",
      "  inspect     Return low-level information on Docker objects\n",
      "  kill        Kill one or more running containers\n",
      "  load        Load an image from a tar archive or STDIN\n",
      "  login       Log in to a Docker registry\n",
      "  logout      Log out from a Docker registry\n",
      "  logs        Fetch the logs of a container\n",
      "  pause       Pause all processes within one or more containers\n",
      "  port        List port mappings or a specific mapping for the container\n",
      "  ps          List containers\n",
      "  pull        Pull an image or a repository from a registry\n",
      "  push        Push an image or a repository to a registry\n",
      "  rename      Rename a container\n",
      "  restart     Restart one or more containers\n",
      "  rm          Remove one or more containers\n",
      "  rmi         Remove one or more images\n",
      "  run         Run a command in a new container\n",
      "  save        Save one or more images to a tar archive (streamed to STDOUT by default)\n",
      "  search      Search the Docker Hub for images\n",
      "  start       Start one or more stopped containers\n",
      "  stats       Display a live stream of container(s) resource usage statistics\n",
      "  stop        Stop one or more running containers\n",
      "  tag         Create a tag TARGET_IMAGE that refers to SOURCE_IMAGE\n",
      "  top         Display the running processes of a container\n",
      "  unpause     Unpause all processes within one or more containers\n",
      "  update      Update configuration of one or more containers\n",
      "  version     Show the Docker version information\n",
      "  wait        Block until one or more containers stop, then print their exit codes\n",
      "\n",
      "Run 'docker COMMAND --help' for more information on a command.\n",
      "\n",
      "\u001b[1mTo get more help with docker, check out our guides at https://docs.docker.com/go/guides/\u001b[0m\n"
     ]
    }
   ],
   "source": [
    "%%bash \n",
    "docker"
   ]
  },
  {
   "cell_type": "markdown",
   "metadata": {},
   "source": [
    "## Starting a Nginx web server\n",
    "\n",
    "In this section we will:\n",
    "* contract images to containers\n",
    "* run/stop/remote containers\n",
    "* check container logs and process\n"
   ]
  },
  {
   "cell_type": "markdown",
   "metadata": {},
   "source": [
    "### Images vs. Containers\n",
    "\n",
    "**Images** are the binaries/libraries/source code that will make up our application. A **container** is a running instance of that image. You can have mutliple containers running from the same image. \n",
    "\n",
    "Images are obtained from registries, [**Docker Hub**](https://hub.docker.com/) being the default registry. (sort of what github is to source code, registries are to images)"
   ]
  },
  {
   "cell_type": "markdown",
   "metadata": {},
   "source": []
  }
 ],
 "metadata": {
  "kernelspec": {
   "display_name": "Python 3.8.9 ('venv': venv)",
   "language": "python",
   "name": "python3"
  },
  "language_info": {
   "codemirror_mode": {
    "name": "ipython",
    "version": 3
   },
   "file_extension": ".py",
   "mimetype": "text/x-python",
   "name": "python",
   "nbconvert_exporter": "python",
   "pygments_lexer": "ipython3",
   "version": "3.8.9"
  },
  "orig_nbformat": 4,
  "vscode": {
   "interpreter": {
    "hash": "f1a23c564728641ca86074dd852d1ffb282b3050b004cca28db58ced15900872"
   }
  }
 },
 "nbformat": 4,
 "nbformat_minor": 2
}
