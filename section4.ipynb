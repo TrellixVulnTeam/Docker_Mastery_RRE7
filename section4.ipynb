{
 "cells": [
  {
   "cell_type": "markdown",
   "metadata": {},
   "source": [
    "# Section 4 - Container images, where to find them and how to build them\n",
    "## 35 - What's an image and what is it not\n",
    "An image is a set of application binaries, their dependancies as well as the metadata on the image and how it should run.  \n",
    "It doesn't contain an OS, the host on which the application runs will provide the kernel/OS/Drives\n"
   ]
  },
  {
   "cell_type": "markdown",
   "metadata": {},
   "source": [
    "## 36- The mighty hub: using docker hub registry images \n",
    "\n",
    "The image registry can be found at hub.docker.com\n",
    "\n",
    "Each application can have multiple images on the registry (e.g: nginx has ~90,000 images). To begin with, an easy choice  \n",
    "is to start with the official images that are curated by the team at Docker (who usualy work hand in hand with the team that created the software).\n",
    "\n",
    "You can find documentation on how to run the image within its page on the hub.\n",
    "\n",
    "There are multiple versions of most official images. Each version can have more than one tag."
   ]
  },
  {
   "cell_type": "markdown",
   "metadata": {},
   "source": [
    "## 37- Images and their layers: discover the image cache\n",
    "\n",
    "Images don't just come as a single piece of data. They're usualy stacks of code that build on top of each other  \n",
    "(much like commits). This can be seen when downloading new images and there \n",
    "\n",
    "They are designed using the union file concept of making layers of changes."
   ]
  },
  {
   "cell_type": "code",
   "execution_count": null,
   "metadata": {},
   "outputs": [],
   "source": [
    "%%bash\n",
    "docker image history nginx:latest"
   ]
  },
  {
   "cell_type": "markdown",
   "metadata": {},
   "source": [
    "The above is a history of the image layers. Every image start with a blank base layer called \"scratch\", every change since then on the image file system is an added layer. Every new layer has its own unique hash code (sha265).\n",
    "\n",
    "Images being stacks of layers can \"share\" cached layers that are common across images (e.g: Two images can use the same scratch layer of Debian Jessie)\n",
    "\n",
    "In deploying containers, if you modify one of the files in the base layer that is shared among containers. Only the difference is copied out. This is known as copy on write, the differencing elements in the layers are copied into the container that does the changes (not affecting the other containers).\n",
    "\n",
    "The docker inspect command return metadata on the image in JSON format."
   ]
  },
  {
   "cell_type": "code",
   "execution_count": null,
   "metadata": {},
   "outputs": [],
   "source": [
    "%%bash\n",
    "docker inspect nginx"
   ]
  },
  {
   "cell_type": "markdown",
   "metadata": {},
   "source": [
    "## 38- Image taggin and pushing to Docker hub\n",
    "\n",
    "Image tag syntax: \\<user>/\\<repo>:\\<tag>\n",
    "\n",
    "A tag is a pointer to a specific image commit (IMAGE ID). It a many to one relation between TAG and IMAGE ID (N:1)"
   ]
  },
  {
   "cell_type": "code",
   "execution_count": null,
   "metadata": {},
   "outputs": [],
   "source": [
    "%%bash\n",
    "\n",
    "docker image tag --help"
   ]
  },
  {
   "cell_type": "markdown",
   "metadata": {},
   "source": [
    "You can retag new tags to existing images"
   ]
  },
  {
   "cell_type": "code",
   "execution_count": null,
   "metadata": {},
   "outputs": [],
   "source": [
    "%%bash\n",
    "docker image tag nginx karimitn/nginx"
   ]
  },
  {
   "cell_type": "code",
   "execution_count": null,
   "metadata": {},
   "outputs": [],
   "source": [
    "%%bash\n",
    "#you can see the new tag for karimitn/nginx having the same IMAGE ID as the original nginx image\n",
    "docker image ls "
   ]
  },
  {
   "cell_type": "code",
   "execution_count": null,
   "metadata": {},
   "outputs": [],
   "source": [
    "%%bash\n",
    "#The new tag won't show in Docker Hub untill you run a push command\n",
    "docker image push karimitn/nginx"
   ]
  },
  {
   "cell_type": "markdown",
   "metadata": {},
   "source": [
    "## 39- Building Images: The Dockerfile Basics\n",
    "Note: Use the dockerfile-sample-1 folder for this section\n",
    "\n",
    "The default name for such files is Dockerfile but any other name can be supplied. You can use the flag -f to specify which file you want to use.\n",
    "\n",
    "Example:\\\n",
    "docker build -f some-dockerfile\n",
    "\n",
    "Each stanza in the Dockerfile is an actual layer and thus the order in which they are run matters a lot.\n",
    "\n",
    "### Structure: \n",
    "\n",
    "- FROM command is required, it tells docker which image layer this is building up from\n",
    "- ENV is used to set environemnt variables\n",
    "- RUN is used to run shell command during the build process (usualy installing packages, zipping, file edits,etc)\n",
    "- EXPOSE set which ports are exposed (by default no ports are exposed in a container to a virtual network)\n",
    "- CMD is the final command that is added (it is used every time a new container is launched from the image or restart a stopped container)\n",
    "\n",
    "\n"
   ]
  },
  {
   "cell_type": "code",
   "execution_count": null,
   "metadata": {},
   "outputs": [],
   "source": [
    "%%bash\n",
    "pwd\n",
    "cd ./udemy-docker-mastery/dockerfile-sample-1/\n",
    "pwd\n",
    "ls -ltra\n",
    "cat Dockerfile\n"
   ]
  },
  {
   "cell_type": "markdown",
   "metadata": {},
   "source": [
    "## 40- Building Images: Running Docker Buils\n",
    "\n",
    "When you run the above Dockerfile it will pull the Debian:Jessie image from Docker Hub into the cache then it will execute the subsequent commands inside the Docker Engine and cache each of those layers"
   ]
  },
  {
   "cell_type": "code",
   "execution_count": null,
   "metadata": {},
   "outputs": [],
   "source": [
    "%%bash\n",
    "cd ./udemy-docker-mastery/dockerfile-sample-1/\n",
    "docker image build -t customnginx ."
   ]
  },
  {
   "cell_type": "code",
   "execution_count": null,
   "metadata": {},
   "outputs": [],
   "source": []
  }
 ],
 "metadata": {
  "kernelspec": {
   "display_name": "Python 3.8.9 ('venv': venv)",
   "language": "python",
   "name": "python3"
  },
  "language_info": {
   "codemirror_mode": {
    "name": "ipython",
    "version": 3
   },
   "file_extension": ".py",
   "mimetype": "text/x-python",
   "name": "python",
   "nbconvert_exporter": "python",
   "pygments_lexer": "ipython3",
   "version": "3.8.9"
  },
  "orig_nbformat": 4,
  "vscode": {
   "interpreter": {
    "hash": "f1a23c564728641ca86074dd852d1ffb282b3050b004cca28db58ced15900872"
   }
  }
 },
 "nbformat": 4,
 "nbformat_minor": 2
}
